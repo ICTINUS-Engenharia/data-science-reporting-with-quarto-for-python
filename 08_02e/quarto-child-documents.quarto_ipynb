{
  "cells": [
    {
      "cell_type": "markdown",
      "metadata": {},
      "source": [
        "---\n",
        "title: \"Child documents in Quarto\"\n",
        "format: html\n",
        "---\n",
        "\n",
        "\n",
        "# Insert and run code\n",
        "\n",
        "This chunk inserts the code, but it's not run\n",
        "\n",
        "```{.python include=\"penguin-data-processing.py\"}\n",
        "```\n",
        "\n",
        "This runs the code:\n"
      ],
      "id": "a2b20ebf"
    },
    {
      "cell_type": "code",
      "metadata": {},
      "source": [
        "# | include: false\n",
        "%run penguin-data-processing.py"
      ],
      "id": "cfd9344f",
      "execution_count": null,
      "outputs": []
    },
    {
      "cell_type": "markdown",
      "metadata": {},
      "source": [
        "# Just running the code\n",
        "\n",
        "If I don't want to insert the code I could just use run:\n"
      ],
      "id": "95810d7a"
    },
    {
      "cell_type": "code",
      "metadata": {},
      "source": [
        "# | include: false\n",
        "%run penguins-clustering.py"
      ],
      "id": "acc5c3b9",
      "execution_count": null,
      "outputs": []
    },
    {
      "cell_type": "markdown",
      "metadata": {},
      "source": [
        "# Palmer Penguins\n",
        "\n",
        "Out of `{python} penguins_confusion.sum().sum().item()` penguins, our model misclassified `{python} round(penguins_confusion_mismatch.sum().sum().item() / penguins_confusion.sum().sum().item(), 2) * 100`% of the penguins.\n",
        "\n",
        "The model has these parameters:\n",
        "\n",
        "- Number of Clusters: `{python} model_params[\"n_clusters\"]`\n",
        "\n",
        "- Max Iterations: `{python} model_params[\"max_iter\"]`\n"
      ],
      "id": "fbd3e79f"
    }
  ],
  "metadata": {
    "kernelspec": {
      "name": "python3",
      "language": "python",
      "display_name": "Python 3 (ipykernel)",
      "path": "/home/vscode/.local/share/jupyter/kernels/python3"
    }
  },
  "nbformat": 4,
  "nbformat_minor": 5
}