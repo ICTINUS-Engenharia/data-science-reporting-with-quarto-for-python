{
  "cells": [
    {
      "cell_type": "markdown",
      "metadata": {},
      "source": [
        "---\n",
        "jupyter: python3\n",
        "editor:\n",
        "  render-on-save: true\n",
        "execute:\n",
        "  cache: false\n",
        "---\n",
        "\n",
        "\n",
        "# Live Previewing\n",
        "\n",
        "I want to prove this is live previewing\n"
      ],
      "id": "887d6ac5"
    },
    {
      "cell_type": "code",
      "metadata": {},
      "source": [
        "import random\n",
        "print(random.randint(0, 999999))"
      ],
      "id": "78f13dd9",
      "execution_count": null,
      "outputs": []
    },
    {
      "cell_type": "markdown",
      "metadata": {},
      "source": [
        "# Palmer Penguins\n",
        "\n",
        "Let's take a gander at the penguins dataset:\n"
      ],
      "id": "17800ae4"
    },
    {
      "cell_type": "code",
      "metadata": {},
      "source": [
        "from palmerpenguins import load_penguins\n",
        "import pandas as pd\n",
        "import numpy as np\n",
        "pd.options.mode.chained_assignment = None\n",
        "\n",
        "\n",
        "penguins = load_penguins()\n",
        "penguins.head()"
      ],
      "id": "176021b2",
      "execution_count": null,
      "outputs": []
    },
    {
      "cell_type": "markdown",
      "metadata": {},
      "source": [
        "Let's clean and visualise our variables of interest:\n"
      ],
      "id": "5a97e92a"
    },
    {
      "cell_type": "code",
      "metadata": {},
      "source": [
        "from plotnine import ggplot, geom_point, aes, stat_smooth, facet_wrap\n",
        "\n",
        "# Drop rows with missing values\n",
        "penguins_cleaned = penguins.dropna()\n",
        "\n",
        "(\n",
        "    ggplot(penguins_cleaned, aes(\"bill_length_mm\",\n",
        "           \"flipper_length_mm\", color=\"factor(species)\"))\n",
        "    + geom_point()\n",
        ")"
      ],
      "id": "c9a7cead",
      "execution_count": null,
      "outputs": []
    },
    {
      "cell_type": "markdown",
      "metadata": {},
      "source": [
        "## KMeans clustering\n",
        "\n",
        "Let's see if these two variables are sufficient to identify penguin species with KMeans.\n"
      ],
      "id": "553b2715"
    },
    {
      "cell_type": "code",
      "metadata": {},
      "source": [
        "from sklearn.cluster import KMeans\n",
        "from sklearn.preprocessing import StandardScaler\n",
        "\n",
        "selected_features = [\"bill_length_mm\", \"flipper_length_mm\"]\n",
        "\n",
        "features = penguins_cleaned.loc[:, selected_features]\n",
        "\n",
        "scaler = StandardScaler()\n",
        "features_scaled = scaler.fit_transform(features)\n",
        "\n",
        "# K-Means Clustering\n",
        "kmeans = KMeans(n_clusters=3)\n",
        "# poor model kmeans = KMeans(n_clusters=3, algorithm=\"elkan\", n_init=1, max_iter=1)\n",
        "\n",
        "# TODO: Get help on SettingWithCopyWarning error\n",
        "penguin_predictions = kmeans.fit_predict(features_scaled)\n",
        "penguins_cleaned.loc[:, \"cluster\"] = penguin_predictions"
      ],
      "id": "cd33ac46",
      "execution_count": null,
      "outputs": []
    },
    {
      "cell_type": "markdown",
      "metadata": {},
      "source": [
        "Let's match up the clusters to the species by the cluster containing most predictions\n"
      ],
      "id": "b9fad2be"
    },
    {
      "cell_type": "code",
      "metadata": {},
      "source": [
        "cluster_species = penguins_cleaned.groupby(\n",
        "    \"species\")[\"cluster\"].agg(lambda x: x.value_counts().index[0])\n",
        "\n",
        "cluster_species_df = cluster_species.reset_index()\n",
        "\n",
        "penguins_cleaned['cluster'] = penguins_cleaned['cluster'].astype(str)\n",
        "cluster_species_df['cluster'] = cluster_species_df['cluster'].astype(str)\n",
        "\n",
        "penguins_cleaned.loc[:, \"cluster\"] = penguins_cleaned[\"cluster\"].map(\n",
        "    cluster_species_df.set_index(\"cluster\")[\"species\"])\n",
        "\n",
        "cols_compare = [\"species\",\n",
        "                \"cluster\", \"bill_length_mm\", \"flipper_length_mm\"]\n",
        "penguins_selected = penguins_cleaned[cols_compare]\n",
        "\n",
        "penguins_selected = penguins_selected.rename(columns={\n",
        "    \"species\": \"actual_species\", \"cluster\": \"predicted_species\"})\n",
        "\n",
        "penguins_crosstabbed = pd.crosstab(penguins_selected['predicted_species'],\n",
        "                                   penguins_selected['actual_species'])\n",
        "\n",
        "penguins_crosstabbed_mismatch = penguins_crosstabbed.copy(deep=True)\n",
        "\n",
        "np.fill_diagonal(penguins_crosstabbed_mismatch.values, 0)\n",
        "\n",
        "penguins_crosstabbed.sum().sum()"
      ],
      "id": "75cd84b6",
      "execution_count": null,
      "outputs": []
    },
    {
      "cell_type": "markdown",
      "metadata": {},
      "source": [
        "Let's now visualise how well the clustering worked:\n"
      ],
      "id": "a0ab7dbb"
    },
    {
      "cell_type": "code",
      "metadata": {},
      "source": [
        "penguins_clust_long = pd.melt(penguins_selected,\n",
        "                              id_vars=[\"bill_length_mm\", \"flipper_length_mm\"],\n",
        "                              var_name=\"measure\",\n",
        "                              value_name=\"group\")\n",
        "\n",
        "(\n",
        "    ggplot(penguins_clust_long, aes(\"bill_length_mm\",\n",
        "           \"flipper_length_mm\", color=\"factor(group)\"))\n",
        "    + geom_point()\n",
        "    + facet_wrap(\"measure\")\n",
        ")"
      ],
      "id": "e9611d51",
      "execution_count": null,
      "outputs": []
    },
    {
      "cell_type": "markdown",
      "metadata": {},
      "source": [
        "# Slow notebooks\n"
      ],
      "id": "390962b6"
    },
    {
      "cell_type": "code",
      "metadata": {},
      "source": [
        "import random\n",
        "import time\n",
        "from plotnine import geom_tile, scale_fill_gradient, theme_minimal, labs\n",
        "\n",
        "# time.sleep(10)\n",
        "print(random.randint(0, 999999))\n",
        "\n",
        "matrix_size = 10000\n",
        "random_data_df = pd.DataFrame(\n",
        "    np.random.randint(0, 10, size=(matrix_size, matrix_size)))\n",
        "\n",
        "# Melt the DataFrame for plotting\n",
        "df_melted = random_data_df.stack().reset_index()\n",
        "df_melted.columns = ['x', 'y', 'value']\n",
        "\n",
        "df_melted"
      ],
      "id": "f91d65e2",
      "execution_count": null,
      "outputs": []
    }
  ],
  "metadata": {
    "kernelspec": {
      "name": "python3",
      "language": "python",
      "display_name": "Python 3 (ipykernel)",
      "path": "/home/vscode/.local/share/jupyter/kernels/python3"
    }
  },
  "nbformat": 4,
  "nbformat_minor": 5
}